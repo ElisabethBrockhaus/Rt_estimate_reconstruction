{
 "cells": [
  {
   "cell_type": "code",
   "execution_count": null,
   "metadata": {},
   "outputs": [],
   "source": [
    "import arviz\n",
    "import numpy as np\n",
    "import os"
   ]
  },
  {
   "cell_type": "code",
   "execution_count": null,
   "metadata": {},
   "outputs": [],
   "source": [
    "def summarize_and_save(country, date, file, func_dict):\n",
    "    \"\"\"\n",
    "    Calculates and saves summary for trace data.\n",
    "    :param country: the country code / folder from which to load\n",
    "    :param date: name of subfolder containing trace data for date of interest\n",
    "    :param file: name of the file to process\n",
    "    :param func_dict: dictionary defining which statistics should be contained in the summary\n",
    "    :return: None\n",
    "    \"\"\"\n",
    "    # path where trace data is located\n",
    "    trace_path = country + \"/\" + date + \"/\" + file\n",
    "    \n",
    "    # define name of resulting .csv file\n",
    "    save_file = country + \"_\" + date + \"_\" + file.replace(\".nc\", \"\") + \"_summary.csv\"\n",
    "    \n",
    "    if file.endswith(\"trace.nc\"):\n",
    "\n",
    "        # read data and extract posterior\n",
    "        idata = arviz.from_netcdf(trace_path)\n",
    "        posterior = idata.posterior.stack(sample=(\"chain\", \"draw\"))\n",
    "\n",
    "        # calculate summary\n",
    "        summary = arviz.summary(\n",
    "            idata,\n",
    "            var_names=[\"r_t\"],\n",
    "            stat_funcs=func_dict,\n",
    "            extend=False\n",
    "        )\n",
    "        summary = summary.set_index(np.array(posterior.date))\n",
    "\n",
    "        # save as .csv\n",
    "        summary.to_csv(save_path + save_file)\n",
    "        \n",
    "    else:\n",
    "        print(\"Please pass trace data to return summary.\")"
   ]
  },
  {
   "cell_type": "code",
   "execution_count": null,
   "metadata": {},
   "outputs": [],
   "source": [
    "# folder from which to process files:\n",
    "country = \"DE\"\n",
    "\n",
    "# tag to match file names against. Should be set to \"all\" for the national level\n",
    "tag = \"\" # empty string to process all files, \"all\" for national level only\n",
    "\n",
    "# define path where resulting summaries are saved\n",
    "save_path = \"rtlive_summaries/\" \n",
    "\n",
    "# make sure the folder exists\n",
    "if not os.path.isdir(save_path):\n",
    "    os.mkdir(save_path)"
   ]
  },
  {
   "cell_type": "code",
   "execution_count": null,
   "metadata": {},
   "outputs": [],
   "source": [
    "func_dict = {\n",
    "    \"mean\": np.mean,\n",
    "    \"std\": np.std,\n",
    "    \"2.5%\": lambda x: np.percentile(x, 2.5),\n",
    "    \"25%\": lambda x: np.percentile(x, 25),\n",
    "    \"median\": lambda x: np.percentile(x, 50),\n",
    "    \"75%\": lambda x: np.percentile(x, 75),\n",
    "    \"97.5%\": lambda x: np.percentile(x, 97.5),\n",
    "}"
   ]
  },
  {
   "cell_type": "code",
   "execution_count": null,
   "metadata": {},
   "outputs": [],
   "source": [
    "for date in os.listdir(country):\n",
    "    print(\"Starting \" + date + \"...\")\n",
    "    for file in os.listdir(country + \"/\" + date):\n",
    "        if tag in file: # process only files containing a specific tag\n",
    "            summarize_and_save(country, date, file, func_dict)"
   ]
  },
  {
   "cell_type": "code",
   "execution_count": null,
   "metadata": {},
   "outputs": [],
   "source": []
  }
 ],
 "metadata": {
  "kernelspec": {
   "display_name": "Python 3",
   "language": "python",
   "name": "python3"
  },
  "language_info": {
   "codemirror_mode": {
    "name": "ipython",
    "version": 3
   },
   "file_extension": ".py",
   "mimetype": "text/x-python",
   "name": "python",
   "nbconvert_exporter": "python",
   "pygments_lexer": "ipython3",
   "version": "3.8.9"
  },
  "toc": {
   "base_numbering": 1,
   "nav_menu": {},
   "number_sections": true,
   "sideBar": true,
   "skip_h1_title": false,
   "title_cell": "Table of Contents",
   "title_sidebar": "Contents",
   "toc_cell": false,
   "toc_position": {},
   "toc_section_display": true,
   "toc_window_display": false
  }
 },
 "nbformat": 4,
 "nbformat_minor": 4
}
