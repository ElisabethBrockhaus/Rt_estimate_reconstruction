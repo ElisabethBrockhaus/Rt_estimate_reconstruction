{
 "cells": [
  {
   "cell_type": "code",
   "execution_count": 9,
   "metadata": {},
   "outputs": [],
   "source": [
    "import arviz\n",
    "import numpy as np\n",
    "import os"
   ]
  },
  {
   "cell_type": "code",
   "execution_count": 32,
   "metadata": {},
   "outputs": [],
   "source": [
    "def summarize_and_save(file, func_dict):\n",
    "    \"\"\"\n",
    "    Calculates and saves summary for trace data.\n",
    "    :param file: path where .nc file is located\n",
    "    :param func_dict: dictionary defining which statistics should be contained in the summary\n",
    "    :return: None\n",
    "    \"\"\"\n",
    "    \n",
    "    # define path where resulting summary is saved\n",
    "    if file.endswith(\"trace.nc\"):\n",
    "        save_path = file[:-8] + \"summary.csv\"\n",
    "        \n",
    "        # read data and extract posterior\n",
    "        idata = arviz.from_netcdf(file)\n",
    "        posterior = idata.posterior.stack(sample=(\"chain\", \"draw\"))\n",
    "\n",
    "        # calculate summary\n",
    "        summary = arviz.summary(\n",
    "            idata,\n",
    "            var_names=[\"r_t\"],\n",
    "            stat_funcs=func_dict,\n",
    "            extend=False\n",
    "        )\n",
    "        summary = summary.set_index(np.array(posterior.date))\n",
    "\n",
    "        # save as .csv\n",
    "        summary.to_csv(save_path)\n",
    "        \n",
    "    else:\n",
    "        print(\"Please pass trace data to return summary.\")"
   ]
  },
  {
   "cell_type": "code",
   "execution_count": 44,
   "metadata": {},
   "outputs": [],
   "source": [
    "folder = \"data/\"\n",
    "\n",
    "func_dict = {\n",
    "    \"mean\": np.mean,\n",
    "    \"std\": np.std,\n",
    "    \"2.5%\": lambda x: np.percentile(x, 2.5),\n",
    "    \"25%\": lambda x: np.percentile(x, 25),\n",
    "    \"median\": lambda x: np.percentile(x, 50),\n",
    "    \"75%\": lambda x: np.percentile(x, 75),\n",
    "    \"97.5%\": lambda x: np.percentile(x, 97.5),\n",
    "}"
   ]
  },
  {
   "cell_type": "code",
   "execution_count": 45,
   "metadata": {},
   "outputs": [],
   "source": [
    "for file in os.listdir(folder):\n",
    "    summarize_and_save(folder + file, func_dict)"
   ]
  },
  {
   "cell_type": "code",
   "execution_count": null,
   "metadata": {},
   "outputs": [],
   "source": []
  }
 ],
 "metadata": {
  "kernelspec": {
   "display_name": "Python 3",
   "language": "python",
   "name": "python3"
  },
  "language_info": {
   "codemirror_mode": {
    "name": "ipython",
    "version": 3
   },
   "file_extension": ".py",
   "mimetype": "text/x-python",
   "name": "python",
   "nbconvert_exporter": "python",
   "pygments_lexer": "ipython3",
   "version": "3.8.9"
  },
  "toc": {
   "base_numbering": 1,
   "nav_menu": {},
   "number_sections": true,
   "sideBar": true,
   "skip_h1_title": false,
   "title_cell": "Table of Contents",
   "title_sidebar": "Contents",
   "toc_cell": false,
   "toc_position": {},
   "toc_section_display": true,
   "toc_window_display": false
  }
 },
 "nbformat": 4,
 "nbformat_minor": 4
}
